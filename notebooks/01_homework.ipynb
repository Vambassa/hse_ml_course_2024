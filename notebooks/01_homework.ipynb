{
  "cells": [
    {
      "cell_type": "markdown",
      "metadata": {
        "id": "EugYe2AVTJnB"
      },
      "source": [
        "# Домашнее задание\n",
        "\n",
        "Установить Anaconda и Git. Создать репозиторий на GitHub.\n",
        "\n",
        "## Easy (+0.1)\n",
        "\n",
        "Написать функцию, которая на вход принимает список, а возвращает словарь со среднием, медианой и модой, например вот такой: `{\"mean\": ..., \"median\": ..., \"mode\": ...}`.\n",
        "\n",
        "Пример:\n",
        "\n",
        "```python\n",
        "\n",
        "func([0, 1, 1, 10, 5, 4, 3])\n",
        "\n",
        "# Должно вернуть: {\"mean\": 3.4285, \"median\": 3, \"mode\": 1}\n",
        "\n",
        "```\n",
        "\n",
        "## Medium (+0.4)\n",
        "\n",
        "https://www.kaggle.com/datasets/databanditofficial/dota-hero-stats\n",
        "\n",
        "Написать функцию, которая будет парсить csv-файл dota_hero_stats.csv\n",
        "\n",
        "Сигнатура функции:\n",
        "\n",
        "```\n",
        "def parse_csv(file_content: str) -> List[Dict]\n",
        "```\n",
        "\n",
        "Найти персонажа с максимальным количеством ног (сторонние библиотеки использовать нельзя)\n",
        "\n",
        "\n",
        "## Hard (+ в карму)\n",
        "\n",
        "Придумать меру близости между двумя персонажами, описать текстом, реализовать кодом. Мера должна использовать все содержательные колонки: attack_type, legs, primary_attr, roles\n",
        "\n",
        "Найти двух персонажей, которые наиболее близки друг к другу.\n",
        "\n",
        "Также нельзя использовать сторонние библиотеки.\n",
        "\n",
        "\n",
        "## Байка\n",
        "\n",
        "В реально жизни, конечно, уже написаны парсеры для основных форматов данных, но кто вам гарантирует, что ваши данные будут в нужном формате? Нужно уметь парсить разные странные форматы данных.\n",
        "\n",
        "Когда-то я работал в компании, которая не умела в DWH и хранила все данные в продовых базах. Ну, \"базах\". Это были терабайты xml-файлов, поверх которых была настроена репликация и прод умел быстро по ним искать. Конечно же, эти xml-файлы были неструктурированы, пришлось освоить специальный язык для индексации по xml-файлам - xpath - чтобы привести данные в хоть сколько-то табличный вид. Парсер имел отвратительный код, а данные на выходе были еще хуже. А через пару месяцев я уволился оттуда и дальше проект не полетел (надеюсь, это независимые события). Какой вывод? Держите данные в DWH в понятном и удобном формате и не храните данные в проде в xml."
      ]
    },
    {
      "cell_type": "markdown",
      "metadata": {
        "id": "if8LkGqTGfNX"
      },
      "source": [
        "## Easy"
      ]
    },
    {
      "cell_type": "code",
      "execution_count": 1,
      "metadata": {
        "id": "4w4pKwBBShQt"
      },
      "outputs": [],
      "source": [
        "def stat_func(arr):\n",
        "    length = len(arr)\n",
        "    if length == 0:\n",
        "        return\n",
        "    sorted_arr = sorted(arr)\n",
        "\n",
        "    if length % 2 != 0:\n",
        "        median_val = sorted_arr[length // 2]\n",
        "    else:\n",
        "        median_val = (sorted_arr[length // 2 - 1] + sorted_arr[length // 2]) / 2\n",
        "\n",
        "    cnt_freq = {}\n",
        "    for a in arr:\n",
        "        cnt_freq[a] = cnt_freq.get(a, 0) + 1\n",
        "    mode_val = max(cnt_freq, key=lambda k: cnt_freq.get(k))\n",
        "\n",
        "    res_dict = {\n",
        "        \"mean\": round(sum(arr) / length, 4),\n",
        "        \"median\": median_val,\n",
        "        \"mode\": mode_val\n",
        "    }\n",
        "\n",
        "    return res_dict"
      ]
    },
    {
      "cell_type": "code",
      "execution_count": 2,
      "metadata": {
        "colab": {
          "base_uri": "https://localhost:8080/"
        },
        "id": "caRqbFb-Iq3r",
        "outputId": "6191e584-acd5-4a64-9672-d1b641a6220a"
      },
      "outputs": [
        {
          "data": {
            "text/plain": [
              "{'mean': 3.4286, 'median': 3, 'mode': 1}"
            ]
          },
          "execution_count": 2,
          "metadata": {},
          "output_type": "execute_result"
        }
      ],
      "source": [
        "# Test\n",
        "arr = [0, 1, 1, 10, 5, 4, 3]\n",
        "stat_func(arr)"
      ]
    },
    {
      "cell_type": "code",
      "execution_count": 3,
      "metadata": {
        "colab": {
          "base_uri": "https://localhost:8080/"
        },
        "id": "ne90MZbgNIjs",
        "outputId": "15d66e83-96b1-4827-fb89-5ba084aeb3c3"
      },
      "outputs": [
        {
          "data": {
            "text/plain": [
              "{'mean': 3.5, 'median': 2.5, 'mode': 1}"
            ]
          },
          "execution_count": 3,
          "metadata": {},
          "output_type": "execute_result"
        }
      ],
      "source": [
        "arr = [0, 1, 1, 10, 5, 4]\n",
        "stat_func(arr)"
      ]
    },
    {
      "cell_type": "markdown",
      "metadata": {
        "id": "zRsiPH7eN5B_"
      },
      "source": [
        "## Medium"
      ]
    },
    {
      "cell_type": "code",
      "execution_count": 4,
      "metadata": {
        "id": "I2_nB6vLN4Wy"
      },
      "outputs": [],
      "source": [
        "def parse_csv(path: str) -> list[dict]:\n",
        "    data = []\n",
        "    with open(path, 'r') as file:\n",
        "        lines = file.readlines()\n",
        "    header = lines[0].strip().split(',')[1:]\n",
        "    lines = lines[1:]\n",
        "\n",
        "    for line in lines:\n",
        "        strings = line.replace('\\\"', '').split('[')\n",
        "        roles_str = strings[-1].replace(']', '').replace('\\'', '')\n",
        "        roles = [elem.strip() for elem in roles_str.split(',')]\n",
        "        hero_info = [elem.strip() for elem in strings[0].split(',')][1:-1]\n",
        "        hero_dict = {}\n",
        "        for i in range(len(header) - 1):\n",
        "            hero_dict[header[i]] = hero_info[i]\n",
        "        hero_dict[header[len(header) - 1]] = roles\n",
        "        data.append(hero_dict)\n",
        "\n",
        "    return data\n",
        "\n",
        "def max_legs_func(heroes: list[dict]) -> dict:\n",
        "    res_hero = max(heroes, key=lambda hero: hero[\"legs\"])\n",
        "    return res_hero\n"
      ]
    },
    {
      "cell_type": "code",
      "execution_count": 5,
      "metadata": {
        "colab": {
          "base_uri": "https://localhost:8080/"
        },
        "id": "poe8R6dwSqEP",
        "outputId": "c8bb7446-ffb7-4226-d194-6c9c4fde4b77"
      },
      "outputs": [
        {
          "name": "stdout",
          "output_type": "stream",
          "text": [
            "{'attack_type': 'Melee', 'id': '61', 'legs': '8', 'localized_name': 'Broodmother', 'name': 'npc_dota_hero_broodmother', 'primary_attr': 'agi', 'roles': ['Carry', 'Pusher', 'Escape', 'Nuker']}\n"
          ]
        }
      ],
      "source": [
        "# Test\n",
        "file_path = '../data/dota_hero_stats.csv'\n",
        "heroes = parse_csv(file_path)\n",
        "# for elem in heroes_data:\n",
        "#     print(elem)\n",
        "\n",
        "print(max_legs_func(heroes))\n"
      ]
    }
  ],
  "metadata": {
    "colab": {
      "provenance": []
    },
    "kernelspec": {
      "display_name": "Python 3",
      "name": "python3"
    },
    "language_info": {
      "codemirror_mode": {
        "name": "ipython",
        "version": 3
      },
      "file_extension": ".py",
      "mimetype": "text/x-python",
      "name": "python",
      "nbconvert_exporter": "python",
      "pygments_lexer": "ipython3",
      "version": "3.11.7"
    }
  },
  "nbformat": 4,
  "nbformat_minor": 0
}
