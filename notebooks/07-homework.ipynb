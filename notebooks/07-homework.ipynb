{
 "cells": [
  {
   "cell_type": "markdown",
   "id": "75463811-fb8b-412c-a738-fb4b6a2ad203",
   "metadata": {},
   "source": [
    "# ДЗ 7\n",
    "\n",
    "Взять модель из предыдущей домашки и написать программу-обертку для обучения и предсказания модели.\n",
    "\n",
    "Читать аргументы консоли можно, например, при помощи click https://click.palletsprojects.com\n",
    "\n",
    "## Easy\n",
    "\n",
    "Написать CLI-программу, которая должна уметь делать вот такие штуки:\n",
    "\n",
    "`python main.py train --data train.csv --test test.csv --model model.pkl`\n",
    "\n",
    "`python main.py train --data train.csv --split 0.2 --model model.pkl`\n",
    "\n",
    "`python main.py predict --model model.pkl --data \"some text\"`\n",
    "\n",
    "`python main.py predict --model model.pkl --data test.csv`\n",
    "\n",
    "Команда `train` должна обучать модель по данным `--data` и складывать результат в `--model` в формате pickle. Если передается аргумент `--test` или `--split`, то формируется тестовый датасет, на котором нужно будет посчитать метрики после обучения. `--test` - пусть до файла с тестовыми данными в том же формате, что и `--data`. `--split` - доля тестовой выборки, которая отделится от `--data`.\n",
    "\n",
    "Команда `predict` должна выдавать предсказание модели. `--model` - путь до файла с моделью с этапа обучения, `data` - либо файл, либо строка. Если это файл, то формат как в `--data` и тогда в консоль выводим предсказания через `\\n`.\n",
    "\n",
    "Вызвать в юпитер ноутбуки эти команды (через восклицательный знак), вывод должен остаться в ноутбуке как доказательство работоспособности команды\n",
    "\n",
    "## Medium\n",
    "\n",
    "Написать тесты на ваш код. Обработать краевые случаи.\n",
    "\n",
    "`python main.py test`\n",
    "или\n",
    "`pytest`\n",
    "\n",
    "Должно быть минимум три теста\n",
    "- функцию обучения (что оно корректно запускается на корректных данных, корректно реагирует на некорректные данные и что на выходе появляется sklearn-подобный файлик) - лучше запустить на каких-то небольших фиксированных данных и на маленькое количество итераций. после того, как тест отработает, файлик с моделью нужно удалить.\n",
    "- функцию предикта, и что на выходе ничего не появляется, кроме того, что ожидается (стоит подумать, что подавать на вход)\n",
    "- функцию разбиения данных - что это происходит в правильной пропорции и что происходит перемешивание. не забываем, что можно контроллировать random seed.\n",
    "\n",
    "## Hard\n",
    "\n",
    "Сделать простого телеграм-ботика с единственной функцией - он слушает входящие сообщения и отвечает тем, что скажет модель. Приложить в ноутбук скриншот с диалогом с ботом."
   ]
  },
  {
   "cell_type": "markdown",
   "id": "cc74e067-7f43-46fe-bed0-94bde8cfc1b5",
   "metadata": {},
   "source": [
    "# Оформление"
   ]
  },
  {
   "cell_type": "markdown",
   "id": "85cebdfa-6bb7-4e10-ab68-e88dee9ac313",
   "metadata": {},
   "source": [
    "## Easy"
   ]
  },
  {
   "cell_type": "code",
   "execution_count": 1,
   "id": "9b4c1612",
   "metadata": {},
   "outputs": [
    {
     "name": "stdout",
     "output_type": "stream",
     "text": [
      "F1-score: 0.939, test size = 1500\r\n"
     ]
    }
   ],
   "source": [
    "!python main.py train --data train.csv --test test.csv --model model.pkl"
   ]
  },
  {
   "cell_type": "code",
   "execution_count": 2,
   "id": "dd90c511",
   "metadata": {},
   "outputs": [
    {
     "name": "stdout",
     "output_type": "stream",
     "text": [
      "F1-score: 0.933, test size = 1700\r\n"
     ]
    }
   ],
   "source": [
    "!python main.py train --data train.csv --split 0.2 --model model.pkl"
   ]
  },
  {
   "cell_type": "code",
   "execution_count": 3,
   "id": "ffe54937",
   "metadata": {},
   "outputs": [
    {
     "name": "stdout",
     "output_type": "stream",
     "text": [
      "1\r\n"
     ]
    }
   ],
   "source": [
    "!python main.py predict --model model.pkl --data \"Very beautiful\""
   ]
  },
  {
   "cell_type": "code",
   "execution_count": 4,
   "id": "58ffe052",
   "metadata": {},
   "outputs": [
    {
     "name": "stdout",
     "output_type": "stream",
     "text": [
      "0\r\n"
     ]
    }
   ],
   "source": [
    "!python main.py predict --model model.pkl --data \"Awful\""
   ]
  },
  {
   "cell_type": "code",
   "execution_count": 5,
   "id": "af5fb531",
   "metadata": {},
   "outputs": [
    {
     "name": "stdout",
     "output_type": "stream",
     "text": [
      "1\r\n",
      "1\r\n",
      "1\r\n",
      "1\r\n",
      "0\r\n",
      "1\r\n",
      "1\r\n",
      "0\r\n",
      "1\r\n",
      "1\r\n"
     ]
    }
   ],
   "source": [
    "# 10 сэмплов из большого теста\n",
    "!python main.py predict --model model.pkl --data test_batch.csv"
   ]
  },
  {
   "cell_type": "markdown",
   "id": "2573408a-b977-4476-bf39-b12f9db1226d",
   "metadata": {},
   "source": [
    "## Medium"
   ]
  },
  {
   "cell_type": "code",
   "execution_count": 6,
   "id": "2a6e5144",
   "metadata": {},
   "outputs": [
    {
     "name": "stdout",
     "output_type": "stream",
     "text": [
      "Requirement already satisfied: pytest in /Users/vambassa/opt/anaconda3/lib/python3.9/site-packages (7.1.2)\r\n",
      "Requirement already satisfied: coverage in /Users/vambassa/opt/anaconda3/lib/python3.9/site-packages (7.5.1)\r\n",
      "Requirement already satisfied: attrs>=19.2.0 in /Users/vambassa/opt/anaconda3/lib/python3.9/site-packages (from pytest) (23.1.0)\r\n",
      "Requirement already satisfied: iniconfig in /Users/vambassa/opt/anaconda3/lib/python3.9/site-packages (from pytest) (1.1.1)\r\n",
      "Requirement already satisfied: packaging in /Users/vambassa/opt/anaconda3/lib/python3.9/site-packages (from pytest) (23.1)\r\n",
      "Requirement already satisfied: pluggy<2.0,>=0.12 in /Users/vambassa/opt/anaconda3/lib/python3.9/site-packages (from pytest) (1.0.0)\r\n",
      "Requirement already satisfied: py>=1.8.2 in /Users/vambassa/opt/anaconda3/lib/python3.9/site-packages (from pytest) (1.11.0)\r\n",
      "Requirement already satisfied: tomli>=1.0.0 in /Users/vambassa/opt/anaconda3/lib/python3.9/site-packages (from pytest) (2.0.1)\r\n"
     ]
    }
   ],
   "source": [
    "!pip install pytest coverage"
   ]
  },
  {
   "cell_type": "code",
   "execution_count": 7,
   "id": "40b4a4bc-07ed-4c63-97bd-2ade08c07d39",
   "metadata": {},
   "outputs": [
    {
     "name": "stdout",
     "output_type": "stream",
     "text": [
      "\u001b[1m============================= test session starts ==============================\u001b[0m\n",
      "platform darwin -- Python 3.9.13, pytest-7.1.2, pluggy-1.0.0\n",
      "rootdir: /Users/vambassa/Desktop/hse_ml_course_2024/notebooks\n",
      "plugins: anyio-3.5.0, importnb-2023.11.1, hydra-core-1.3.2\n",
      "collected 10 items                                                             \u001b[0m\u001b[1m\n",
      "\n",
      "test.py \u001b[32m.\u001b[0m\u001b[32m.\u001b[0m\u001b[32m.\u001b[0m\u001b[32m.\u001b[0m\u001b[32m.\u001b[0m\u001b[32m.\u001b[0m\u001b[32m.\u001b[0m\u001b[32m.\u001b[0m\u001b[32m.\u001b[0m\u001b[32m.\u001b[0m\n",
      "\n",
      "\u001b[32m======================== \u001b[32m\u001b[1m10 passed\u001b[0m\u001b[32m in 78.77s (0:01:18)\u001b[0m\u001b[32m =========================\u001b[0m\n"
     ]
    }
   ],
   "source": [
    "!coverage run -m pytest test.py main.py"
   ]
  }
 ],
 "metadata": {
  "kernelspec": {
   "display_name": "Python 3 (ipykernel)",
   "language": "python",
   "name": "python3"
  },
  "language_info": {
   "codemirror_mode": {
    "name": "ipython",
    "version": 3
   },
   "file_extension": ".py",
   "mimetype": "text/x-python",
   "name": "python",
   "nbconvert_exporter": "python",
   "pygments_lexer": "ipython3",
   "version": "3.9.13"
  }
 },
 "nbformat": 4,
 "nbformat_minor": 5
}
